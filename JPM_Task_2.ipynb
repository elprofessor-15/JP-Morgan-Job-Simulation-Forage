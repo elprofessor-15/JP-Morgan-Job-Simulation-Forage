{
  "nbformat": 4,
  "nbformat_minor": 0,
  "metadata": {
    "colab": {
      "provenance": []
    },
    "kernelspec": {
      "name": "python3",
      "display_name": "Python 3"
    },
    "language_info": {
      "name": "python"
    }
  },
  "cells": [
    {
      "cell_type": "code",
      "execution_count": null,
      "metadata": {
        "id": "0nK8Q3Xb0TxU",
        "outputId": "da11fe7c-272b-4ed4-a903-35339f937f04",
        "colab": {
          "base_uri": "https://localhost:8080/"
        }
      },
      "outputs": [
        {
          "output_type": "execute_result",
          "data": {
            "text/plain": [
              "5"
            ]
          },
          "metadata": {},
          "execution_count": 1
        }
      ],
      "source": [
        "2+3"
      ]
    },
    {
      "cell_type": "code",
      "source": [
        "import pandas as pd\n",
        "from statsmodels.tsa.statespace.sarimax import SARIMAX\n",
        "import numpy as np\n",
        "import matplotlib.pyplot as plt\n",
        "\n",
        "def estimate_price(data_path, input_date):\n",
        "    # Load the dataset\n",
        "    df = pd.read_csv(data_path)\n",
        "\n",
        "    # Ensure 'Dates' column is in datetime format\n",
        "    df['Dates'] = pd.to_datetime(df['Dates'])\n",
        "\n",
        "    # Extract the month and set it as the index\n",
        "    df['Months'] = df['Dates'].dt.to_period('M')\n",
        "    df.set_index('Months', inplace=True)\n",
        "\n",
        "    # Drop the original 'Dates' column\n",
        "    df.drop(columns=['Dates'], inplace=True)\n",
        "\n",
        "    # Fit the SARIMA model\n",
        "    model = SARIMAX(df['Prices'], order=(1, 1, 1), seasonal_order=(1, 1, 1, 12))\n",
        "    model_fit = model.fit()\n",
        "\n",
        "    # Predict price on a given date\n",
        "    input_date = pd.to_datetime(input_date, format='%Y-%m-%d').to_period('M')\n",
        "    if input_date in df.index:\n",
        "        return df.loc[input_date, 'Prices']\n",
        "    else:\n",
        "        last_date = df.index[-1]\n",
        "        forecast_steps = (input_date.year - last_date.year) * 12 + (input_date.month - last_date.month)\n",
        "        forecast = model_fit.get_forecast(steps=forecast_steps)\n",
        "        forecast_index = pd.date_range(start=last_date.to_timestamp(), periods=forecast_steps + 1, freq='M')[1:].to_period('M')\n",
        "        forecast_df = pd.DataFrame({'Forecast': forecast.predicted_mean}, index=forecast_index)\n",
        "        if input_date in forecast_df.index:\n",
        "            return forecast_df.loc[input_date, 'Forecast']\n",
        "        else:\n",
        "            return np.nan\n",
        "\n",
        "def calculate_contract_value(data_path, injection_dates, withdrawal_dates, injection_rate, withdrawal_rate, max_storage_volume, storage_cost_per_unit):\n",
        "    # Predict prices for all injection and withdrawal dates\n",
        "    injection_prices = [estimate_price(data_path, date) for date in injection_dates]\n",
        "    withdrawal_prices = [estimate_price(data_path, date) for date in withdrawal_dates]\n",
        "\n",
        "    # Calculate total injection cost\n",
        "    total_injection_cost = sum([price * injection_rate for price in injection_prices])\n",
        "\n",
        "    # Calculate total withdrawal revenue\n",
        "    total_withdrawal_revenue = sum([price * withdrawal_rate for price in withdrawal_prices])\n",
        "\n",
        "    # Calculate storage costs\n",
        "    total_storage_volume = min(injection_rate * len(injection_dates), max_storage_volume)\n",
        "    total_storage_cost = total_storage_volume * storage_cost_per_unit * len(set(injection_dates + withdrawal_dates))\n",
        "\n",
        "    # Calculate net value of the contract\n",
        "    net_value = total_withdrawal_revenue - total_injection_cost - total_storage_cost\n",
        "\n",
        "    return net_value\n",
        "\n",
        "# Define input parameters\n",
        "data_path = 'Nat_Gas.csv'\n",
        "injection_dates = ['2023-01-01', '2023-02-01', '2023-03-01']\n",
        "withdrawal_dates = ['2023-09-01', '2023-10-01', '2023-11-01']\n",
        "injection_rate = 1000  # units of gas per injection\n",
        "withdrawal_rate = 1000  # units of gas per withdrawal\n",
        "max_storage_volume = 5000  # maximum storage capacity in units of gas\n",
        "storage_cost_per_unit = 0.50  # storage cost per unit of gas per month\n",
        "\n",
        "# Calculate the net value of the contract\n",
        "net_value = calculate_contract_value(data_path, injection_dates, withdrawal_dates, injection_rate, withdrawal_rate, max_storage_volume, storage_cost_per_unit)\n",
        "print(f'Net value of the contract: ${net_value:.2f}')\n"
      ],
      "metadata": {
        "id": "wi8FXQyu0V-f",
        "colab": {
          "base_uri": "https://localhost:8080/"
        },
        "outputId": "7d9f01f3-266f-427d-fdf3-b184e050f96b"
      },
      "execution_count": 7,
      "outputs": [
        {
          "output_type": "stream",
          "name": "stdout",
          "text": [
            "Net value of the contract: $-9300.00\n"
          ]
        }
      ]
    },
    {
      "cell_type": "code",
      "source": [
        "import warnings\n",
        "warnings.filterwarnings(\"ignore\")"
      ],
      "metadata": {
        "id": "-ur8nK1w8t17"
      },
      "execution_count": 3,
      "outputs": []
    },
    {
      "cell_type": "code",
      "source": [],
      "metadata": {
        "id": "IkiwZocr896_"
      },
      "execution_count": null,
      "outputs": []
    }
  ]
}